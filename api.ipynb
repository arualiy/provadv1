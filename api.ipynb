{
 "cells": [
  {
   "cell_type": "code",
   "execution_count": 6,
   "metadata": {},
   "outputs": [
    {
     "name": "stdout",
     "output_type": "stream",
     "text": [
      "Requirement already satisfied: kaggle in c:\\users\\valde\\appdata\\local\\programs\\python\\python311\\lib\\site-packages (1.6.17)\n",
      "Requirement already satisfied: six>=1.10 in c:\\users\\valde\\appdata\\local\\programs\\python\\python311\\lib\\site-packages (from kaggle) (1.16.0)\n",
      "Requirement already satisfied: certifi>=2023.7.22 in c:\\users\\valde\\appdata\\local\\programs\\python\\python311\\lib\\site-packages (from kaggle) (2023.7.22)\n",
      "Requirement already satisfied: python-dateutil in c:\\users\\valde\\appdata\\local\\programs\\python\\python311\\lib\\site-packages (from kaggle) (2.8.2)\n",
      "Requirement already satisfied: requests in c:\\users\\valde\\appdata\\local\\programs\\python\\python311\\lib\\site-packages (from kaggle) (2.31.0)\n",
      "Requirement already satisfied: tqdm in c:\\users\\valde\\appdata\\local\\programs\\python\\python311\\lib\\site-packages (from kaggle) (4.66.5)\n",
      "Requirement already satisfied: python-slugify in c:\\users\\valde\\appdata\\local\\programs\\python\\python311\\lib\\site-packages (from kaggle) (8.0.4)\n",
      "Requirement already satisfied: urllib3 in c:\\users\\valde\\appdata\\local\\programs\\python\\python311\\lib\\site-packages (from kaggle) (2.0.4)\n",
      "Requirement already satisfied: bleach in c:\\users\\valde\\appdata\\local\\programs\\python\\python311\\lib\\site-packages (from kaggle) (6.1.0)\n",
      "Requirement already satisfied: webencodings in c:\\users\\valde\\appdata\\local\\programs\\python\\python311\\lib\\site-packages (from bleach->kaggle) (0.5.1)\n",
      "Requirement already satisfied: text-unidecode>=1.3 in c:\\users\\valde\\appdata\\local\\programs\\python\\python311\\lib\\site-packages (from python-slugify->kaggle) (1.3)\n",
      "Requirement already satisfied: charset-normalizer<4,>=2 in c:\\users\\valde\\appdata\\local\\programs\\python\\python311\\lib\\site-packages (from requests->kaggle) (3.2.0)\n",
      "Requirement already satisfied: idna<4,>=2.5 in c:\\users\\valde\\appdata\\local\\programs\\python\\python311\\lib\\site-packages (from requests->kaggle) (3.4)\n",
      "Requirement already satisfied: colorama in c:\\users\\valde\\appdata\\local\\programs\\python\\python311\\lib\\site-packages (from tqdm->kaggle) (0.4.6)\n"
     ]
    }
   ],
   "source": [
    "!pip install kaggle"
   ]
  },
  {
   "cell_type": "code",
   "execution_count": 7,
   "metadata": {},
   "outputs": [
    {
     "name": "stdout",
     "output_type": "stream",
     "text": [
      "Dataset URL: https://www.kaggle.com/datasets/umerhaddii/paris-olympic-medalists-2024\n",
      "  medalist_wikidata_id                                      medalist_link  \\\n",
      "0            Q11739253  https://en.wikipedia.org/wiki/Kim_Woo-jin_(arc...   \n",
      "1             Q1156472        https://en.wikipedia.org/wiki/Brady_Ellison   \n",
      "2            Q18001487         https://en.wikipedia.org/wiki/Lee_Woo-seok   \n",
      "3           Q107619893          https://en.wikipedia.org/wiki/Kim_Je-deok   \n",
      "4            Q11739253  https://en.wikipedia.org/wiki/Kim_Woo-jin_(arc...   \n",
      "\n",
      "   medalist_name   medal delegation_wikidata_id  \\\n",
      "0    Kim Woo-jin    gold             Q114753595   \n",
      "1  Brady Ellison  silver             Q113581713   \n",
      "2   Lee Woo-seok  bronze             Q114753595   \n",
      "3    Kim Je-deok    gold             Q114753595   \n",
      "4    Kim Woo-jin    gold             Q114753595   \n",
      "\n",
      "                                     delegation_link  \\\n",
      "0  https://en.wikipedia.org/wiki/South_Korea_at_t...   \n",
      "1  https://en.wikipedia.org/wiki/United_States_at...   \n",
      "2  https://en.wikipedia.org/wiki/South_Korea_at_t...   \n",
      "3  https://en.wikipedia.org/wiki/South_Korea_at_t...   \n",
      "4  https://en.wikipedia.org/wiki/South_Korea_at_t...   \n",
      "\n",
      "                             delegation_name country_medal_wikidata_id  \\\n",
      "0    South Korea at the 2024 Summer Olympics                      Q884   \n",
      "1  United States at the 2024 Summer Olympics                       Q30   \n",
      "2    South Korea at the 2024 Summer Olympics                      Q884   \n",
      "3    South Korea at the 2024 Summer Olympics                      Q884   \n",
      "4    South Korea at the 2024 Summer Olympics                      Q884   \n",
      "\n",
      "              country_medal country_medal_code2  ... nuts2_id nuts2_name  \\\n",
      "0               South Korea                  KR  ...      NaN        NaN   \n",
      "1  United States of America                  US  ...      NaN        NaN   \n",
      "2               South Korea                  KR  ...      NaN        NaN   \n",
      "3               South Korea                  KR  ...      NaN        NaN   \n",
      "4               South Korea                  KR  ...      NaN        NaN   \n",
      "\n",
      "  nuts3_id nuts3_name nuts2_population nuts3_population nuts2_gdp nuts3_gdp  \\\n",
      "0      NaN        NaN              NaN              NaN       NaN       NaN   \n",
      "1      NaN        NaN              NaN              NaN       NaN       NaN   \n",
      "2      NaN        NaN              NaN              NaN       NaN       NaN   \n",
      "3      NaN        NaN              NaN              NaN       NaN       NaN   \n",
      "4      NaN        NaN              NaN              NaN       NaN       NaN   \n",
      "\n",
      "  nuts0_id  nuts0_name  \n",
      "0      NaN         NaN  \n",
      "1      NaN         NaN  \n",
      "2      NaN         NaN  \n",
      "3      NaN         NaN  \n",
      "4      NaN         NaN  \n",
      "\n",
      "[5 rows x 46 columns]\n"
     ]
    }
   ],
   "source": [
    "import os\n",
    "import pandas as pd\n",
    "import matplotlib.pyplot as plt\n",
    "from kaggle.api.kaggle_api_extended import KaggleApi\n",
    "\n",
    "# Autenticar no Kaggle\n",
    "os.environ['KAGGLE_CONFIG_DIR'] = r'C:\\Users\\valde\\Downloads\\prova_dv'\n",
    "api = KaggleApi()\n",
    "api.authenticate()\n",
    "\n",
    "# Baixar o dataset\n",
    "dataset = 'umerhaddii/paris-olympic-medalists-2024'\n",
    "api.dataset_download_files(dataset, path='datasets/', unzip=True)\n",
    "\n",
    "# Carregar o dataset\n",
    "file_path = r'C:\\Users\\valde\\Downloads\\prova_dv\\datasets\\2024_medalists_all.csv' \n",
    "data = pd.read_csv(file_path)\n",
    "\n",
    "# Verifique se o DataFrame foi carregado corretamente\n",
    "print(data.head())\n",
    "\n",
    "\n"
   ]
  },
  {
   "cell_type": "code",
   "execution_count": 8,
   "metadata": {},
   "outputs": [
    {
     "name": "stdout",
     "output_type": "stream",
     "text": [
      "Number of duplicates: 0\n"
     ]
    }
   ],
   "source": [
    "# Check for duplicates\n",
    "duplicates = data.duplicated().sum()\n",
    "print(f'Number of duplicates: {duplicates}')\n",
    "\n",
    "# Remove duplicates\n",
    "data1 = data.drop_duplicates()\n",
    "\n"
   ]
  },
  {
   "cell_type": "code",
   "execution_count": 9,
   "metadata": {},
   "outputs": [
    {
     "name": "stdout",
     "output_type": "stream",
     "text": [
      "Missing values in each column:\n",
      "country_medal_wikidata_id                   7\n",
      "country_medal                               7\n",
      "country_medal_code2                        17\n",
      "country_medal_code3                        17\n",
      "country_medal_ioc_country_code              7\n",
      "country_medal_NUTS_code                  1202\n",
      "date_of_birth                              17\n",
      "place_of_birth_wikidata_id                 94\n",
      "place_of_birth                             95\n",
      "place_of_birth_located_in_wikidata_id     133\n",
      "place_of_birth_located_in                 134\n",
      "place_of_birth_coordinates                 95\n",
      "lat                                        95\n",
      "lon                                        95\n",
      "event_part_of_wikidata_id                  20\n",
      "event_part_of                              20\n",
      "event_sport_wikidata_id                   733\n",
      "event_sport                               733\n",
      "event_part_of_sport_wikidata_id            69\n",
      "event_part_of_sport                        69\n",
      "sport_wikidata_id                          20\n",
      "sport                                      20\n",
      "nuts1_id                                 1244\n",
      "nuts1_name                               1244\n",
      "nuts2_id                                 1244\n",
      "nuts2_name                               1244\n",
      "nuts3_id                                 1244\n",
      "nuts3_name                               1244\n",
      "nuts2_population                         1264\n",
      "nuts3_population                         1276\n",
      "nuts2_gdp                                1412\n",
      "nuts3_gdp                                1438\n",
      "nuts0_id                                 1244\n",
      "nuts0_name                               1244\n",
      "dtype: int64\n"
     ]
    }
   ],
   "source": [
    "# Check for missing values\n",
    "missing_values = data.isnull().sum()\n",
    "print(\"Missing values in each column:\")\n",
    "print(missing_values[missing_values > 0])"
   ]
  },
  {
   "cell_type": "code",
   "execution_count": 10,
   "metadata": {},
   "outputs": [],
   "source": [
    "df_clean = data.dropna(subset=['lat', 'lon'])"
   ]
  },
  {
   "cell_type": "code",
   "execution_count": 11,
   "metadata": {},
   "outputs": [
    {
     "name": "stdout",
     "output_type": "stream",
     "text": [
      "Available columns in the DataFrame:\n",
      "['medalist_wikidata_id', 'medalist_link', 'medalist_name', 'medal', 'delegation_wikidata_id', 'delegation_link', 'delegation_name', 'country_medal_wikidata_id', 'country_medal', 'country_medal_code2', 'country_medal_code3', 'country_medal_ioc_country_code', 'country_medal_NUTS_code', 'date_of_birth', 'place_of_birth_wikidata_id', 'place_of_birth', 'place_of_birth_located_in_wikidata_id', 'place_of_birth_located_in', 'place_of_birth_coordinates', 'lat', 'lon', 'sex_or_gender_wikidata_id', 'sex_or_gender', 'event_wikidata_id', 'event_link', 'event_name', 'event_part_of_wikidata_id', 'event_part_of', 'event_sport_wikidata_id', 'event_sport', 'event_part_of_sport_wikidata_id', 'event_part_of_sport', 'sport_wikidata_id', 'sport', 'nuts1_id', 'nuts1_name', 'nuts2_id', 'nuts2_name', 'nuts3_id', 'nuts3_name', 'nuts2_population', 'nuts3_population', 'nuts2_gdp', 'nuts3_gdp', 'nuts0_id', 'nuts0_name']\n",
      "Remaining columns after dropping:\n",
      "['medalist_wikidata_id', 'medalist_link', 'medalist_name', 'medal', 'delegation_wikidata_id', 'delegation_link', 'delegation_name', 'country_medal_wikidata_id', 'country_medal', 'country_medal_code2', 'country_medal_code3', 'country_medal_ioc_country_code', 'country_medal_NUTS_code', 'date_of_birth', 'place_of_birth_wikidata_id', 'place_of_birth', 'place_of_birth_located_in_wikidata_id', 'place_of_birth_located_in', 'place_of_birth_coordinates', 'lat', 'lon', 'sex_or_gender_wikidata_id', 'sex_or_gender', 'event_wikidata_id', 'event_link', 'event_name', 'event_part_of_wikidata_id', 'event_part_of', 'event_sport_wikidata_id', 'event_sport', 'event_part_of_sport_wikidata_id', 'event_part_of_sport', 'sport_wikidata_id', 'sport', 'nuts1_id', 'nuts1_name', 'nuts2_id', 'nuts2_name', 'nuts3_id', 'nuts3_name', 'nuts2_population', 'nuts3_population', 'nuts2_gdp', 'nuts3_gdp', 'nuts0_id', 'nuts0_name']\n"
     ]
    }
   ],
   "source": [
    "# Check available columns in the DataFrame\n",
    "print(\"Available columns in the DataFrame:\")\n",
    "print((data.columns.tolist()))\n",
    "\n",
    "# Now, you can update the columns_to_drop based on the available columns\n",
    "# For demonstration, let's adjust the drop list based on the actual columns\n",
    "columns_to_drop = [\n",
    "    # Add the columns you wish to drop after verifying their existence\n",
    "    # 'nuts1_id', 'nuts1_name', 'nuts2_id', 'nuts2_name', \n",
    "    # 'nuts3_id', 'nuts3_name', 'nuts2_population', \n",
    "    # 'nuts3_population', 'nuts2_gdp', 'nuts3_gdp', \n",
    "    # 'nuts0_id', 'nuts0_name'\n",
    "    # 'place_of_birth'\n",
    "    #'country_medal_code3',\n",
    "    #'place_of_birth_wikidata_id',\n",
    "    #'place_of_birth_located_in_wikidata_id',\n",
    "    #'place_of_birth_coordinates',\n",
    "    #'event_wikidata_id',\n",
    "    #'event_part_of_wikidata_id',\n",
    "    #'event_sport_wikidata_id',\n",
    "    #'event_part_of_sport_wikidata_id',\n",
    "    #'sport_wikidata_id\n",
    "]\n",
    "\n",
    "data = data.drop(columns=[col for col in columns_to_drop if col in data.columns])\n",
    "\n",
    "print(\"Remaining columns after dropping:\")\n",
    "print((data.columns.tolist()))"
   ]
  },
  {
   "cell_type": "code",
   "execution_count": 12,
   "metadata": {},
   "outputs": [
    {
     "name": "stdout",
     "output_type": "stream",
     "text": [
      "country_medal\n",
      "United States of America      305\n",
      "France                        181\n",
      "People's Republic of China    164\n",
      "United Kingdom                149\n",
      "Australia                     118\n",
      "                             ... \n",
      "Panama                          1\n",
      "Mongolia                        1\n",
      "Dominica                        1\n",
      "Cape Verde                      1\n",
      "Zambia                          1\n",
      "Name: count, Length: 89, dtype: int64\n"
     ]
    }
   ],
   "source": [
    "# Step 2: Data Analysis\n",
    "# Analyze the distribution of medals by country\n",
    "medals_by_country = data['country_medal'].value_counts()\n",
    "print(medals_by_country)"
   ]
  },
  {
   "cell_type": "code",
   "execution_count": 13,
   "metadata": {},
   "outputs": [
    {
     "name": "stdout",
     "output_type": "stream",
     "text": [
      "medal\n",
      "bronze    758\n",
      "gold      722\n",
      "silver    722\n",
      "Name: count, dtype: int64\n"
     ]
    }
   ],
   "source": [
    "# Analyze the distribution of medals by medal type\n",
    "medals_by_type = data['medal'].value_counts()\n",
    "print(medals_by_type)"
   ]
  },
  {
   "cell_type": "code",
   "execution_count": 14,
   "metadata": {},
   "outputs": [],
   "source": [
    "import streamlit as st"
   ]
  },
  {
   "cell_type": "code",
   "execution_count": 15,
   "metadata": {},
   "outputs": [],
   "source": [
    "data['date_of_birth'] = pd.to_datetime(data['date_of_birth'], errors='coerce')\n",
    "data['age'] = (pd.Timestamp('2024-01-01') - data['date_of_birth']).dt.days // 365"
   ]
  }
 ],
 "metadata": {
  "kernelspec": {
   "display_name": "Python 3",
   "language": "python",
   "name": "python3"
  },
  "language_info": {
   "codemirror_mode": {
    "name": "ipython",
    "version": 3
   },
   "file_extension": ".py",
   "mimetype": "text/x-python",
   "name": "python",
   "nbconvert_exporter": "python",
   "pygments_lexer": "ipython3",
   "version": "3.11.3"
  }
 },
 "nbformat": 4,
 "nbformat_minor": 2
}
